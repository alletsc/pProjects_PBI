{
 "cells": [
  {
   "cell_type": "markdown",
   "metadata": {},
   "source": [
    "## Definição do Problema\n",
    "\n",
    "A empresa ZuZa Inc coletou dados do ano anterior com diversos atributos de funcionários de todos os setores. O objetivo é estudar a relação desses atributos e o impacto na promoção dos funcionários. Esse trabalho de análise pode ser usado mais tarde para construir modelos de Machine Learning para prever se um colaborador será ou não promovido.\n",
    "\n",
    "Essas são as perguntas que devem ser respondidas:\n",
    "\n",
    "- Pergunta 1 - Qual a Correlação Entre os Atributos dos Funcionários?\n",
    "- Pergunta 2 - Qual o Tempo de Serviço da Maioria dos Funcionários?\n",
    "- Pergunta 3 - Qual Avaliação do Ano Anterior Foi Mais Comum?\n",
    "- Pergunta 4 - Qual a Distribuição das Idades dos Funcionários?\n",
    "- Pergunta 5 - Qual o Número de Treinamentos Mais Frequente?\n",
    "- Pergunta 6 - Qual a Proporção dos Funcionários Por Canal de Recrutamento?\n",
    "- Pergunta 7 - Qual a Relação Entre a Promoção e a Avaliação do Ano Anterior?\n",
    "\n",
    "Seu trabalho é limpar e preparar os dados e então construir um dashboard no Power BI para apresentar seus resultados."
   ]
  },
  {
   "cell_type": "markdown",
   "metadata": {},
   "source": [
    "## Carregando e Instalando Pacotes"
   ]
  },
  {
   "cell_type": "code",
   "execution_count": 1,
   "metadata": {},
   "outputs": [
    {
     "name": "stdout",
     "output_type": "stream",
     "text": [
      "Versão da Linguagem Python Usada Neste Jupyter Notebook: 3.9.7\n"
     ]
    }
   ],
   "source": [
    "# Versão da Linguagem Python\n",
    "from platform import python_version\n",
    "print('Versão da Linguagem Python Usada Neste Jupyter Notebook:', python_version())"
   ]
  },
  {
   "cell_type": "code",
   "execution_count": 1,
   "metadata": {
    "colab": {
     "base_uri": "https://localhost:8080/",
     "height": 73
    },
    "colab_type": "code",
    "executionInfo": {
     "elapsed": 51405,
     "status": "ok",
     "timestamp": 1593698493574,
     "user": {
      "displayName": "work data",
      "photoUrl": "",
      "userId": "01648815589157946143"
     },
     "user_tz": -330
    },
    "id": "Ufm7L5NljE9l",
    "outputId": "dfa0b936-3a2b-43ba-b043-73a470a351f3"
   },
   "outputs": [],
   "source": [
    "# Imports\n",
    "import numpy as np\n",
    "import pandas as pd\n",
    "import matplotlib\n",
    "import matplotlib.pyplot as plt\n",
    "import seaborn as sns\n",
    "import warnings\n",
    "warnings.filterwarnings(\"ignore\", category=FutureWarning)"
   ]
  },
  {
   "cell_type": "markdown",
   "metadata": {},
   "source": [
    "## Carregando os Dados"
   ]
  },
  {
   "cell_type": "code",
   "execution_count": 3,
   "metadata": {
    "colab": {
     "base_uri": "https://localhost:8080/",
     "height": 295
    },
    "colab_type": "code",
    "executionInfo": {
     "elapsed": 52229,
     "status": "ok",
     "timestamp": 1593698494406,
     "user": {
      "displayName": "work data",
      "photoUrl": "",
      "userId": "01648815589157946143"
     },
     "user_tz": -330
    },
    "id": "9gDergu2jTwM",
    "outputId": "de5dc7ad-ed3d-48c6-b65c-e6cda5d43ddf"
   },
   "outputs": [],
   "source": [
    "dadosRH = pd.read_csv('dados/dadosRH.csv')"
   ]
  },
  {
   "cell_type": "code",
   "execution_count": 4,
   "metadata": {},
   "outputs": [
    {
     "data": {
      "text/html": [
       "<div>\n",
       "<style scoped>\n",
       "    .dataframe tbody tr th:only-of-type {\n",
       "        vertical-align: middle;\n",
       "    }\n",
       "\n",
       "    .dataframe tbody tr th {\n",
       "        vertical-align: top;\n",
       "    }\n",
       "\n",
       "    .dataframe thead th {\n",
       "        text-align: right;\n",
       "    }\n",
       "</style>\n",
       "<table border=\"1\" class=\"dataframe\">\n",
       "  <thead>\n",
       "    <tr style=\"text-align: right;\">\n",
       "      <th></th>\n",
       "      <th>id_funcionario</th>\n",
       "      <th>departmento</th>\n",
       "      <th>regiao</th>\n",
       "      <th>educacao</th>\n",
       "      <th>genero</th>\n",
       "      <th>canal_recrutamento</th>\n",
       "      <th>numero_treinamentos</th>\n",
       "      <th>idade</th>\n",
       "      <th>aval_ano_anterior</th>\n",
       "      <th>tempo_servico</th>\n",
       "      <th>promovido</th>\n",
       "    </tr>\n",
       "  </thead>\n",
       "  <tbody>\n",
       "    <tr>\n",
       "      <th>0</th>\n",
       "      <td>65438</td>\n",
       "      <td>Marketing</td>\n",
       "      <td>Sudeste</td>\n",
       "      <td>Mestrado ou Doutorado</td>\n",
       "      <td>F</td>\n",
       "      <td>Outsourcing</td>\n",
       "      <td>1</td>\n",
       "      <td>35</td>\n",
       "      <td>5.0</td>\n",
       "      <td>8</td>\n",
       "      <td>0</td>\n",
       "    </tr>\n",
       "    <tr>\n",
       "      <th>1</th>\n",
       "      <td>65141</td>\n",
       "      <td>Logistica</td>\n",
       "      <td>Nordeste</td>\n",
       "      <td>Superior</td>\n",
       "      <td>M</td>\n",
       "      <td>Outro</td>\n",
       "      <td>1</td>\n",
       "      <td>30</td>\n",
       "      <td>5.0</td>\n",
       "      <td>4</td>\n",
       "      <td>0</td>\n",
       "    </tr>\n",
       "    <tr>\n",
       "      <th>2</th>\n",
       "      <td>7513</td>\n",
       "      <td>Marketing</td>\n",
       "      <td>Sudeste</td>\n",
       "      <td>Superior</td>\n",
       "      <td>M</td>\n",
       "      <td>Outsourcing</td>\n",
       "      <td>1</td>\n",
       "      <td>34</td>\n",
       "      <td>3.0</td>\n",
       "      <td>7</td>\n",
       "      <td>0</td>\n",
       "    </tr>\n",
       "    <tr>\n",
       "      <th>3</th>\n",
       "      <td>2542</td>\n",
       "      <td>Marketing</td>\n",
       "      <td>Norte</td>\n",
       "      <td>Superior</td>\n",
       "      <td>M</td>\n",
       "      <td>Outro</td>\n",
       "      <td>2</td>\n",
       "      <td>39</td>\n",
       "      <td>1.0</td>\n",
       "      <td>10</td>\n",
       "      <td>0</td>\n",
       "    </tr>\n",
       "    <tr>\n",
       "      <th>4</th>\n",
       "      <td>48945</td>\n",
       "      <td>Tecnologia</td>\n",
       "      <td>Nordeste</td>\n",
       "      <td>Superior</td>\n",
       "      <td>M</td>\n",
       "      <td>Outro</td>\n",
       "      <td>1</td>\n",
       "      <td>45</td>\n",
       "      <td>3.0</td>\n",
       "      <td>2</td>\n",
       "      <td>0</td>\n",
       "    </tr>\n",
       "  </tbody>\n",
       "</table>\n",
       "</div>"
      ],
      "text/plain": [
       "   id_funcionario departmento    regiao               educacao genero  \\\n",
       "0           65438   Marketing   Sudeste  Mestrado ou Doutorado      F   \n",
       "1           65141   Logistica  Nordeste               Superior      M   \n",
       "2            7513   Marketing   Sudeste               Superior      M   \n",
       "3            2542   Marketing     Norte               Superior      M   \n",
       "4           48945  Tecnologia  Nordeste               Superior      M   \n",
       "\n",
       "  canal_recrutamento  numero_treinamentos  idade  aval_ano_anterior  \\\n",
       "0        Outsourcing                    1     35                5.0   \n",
       "1              Outro                    1     30                5.0   \n",
       "2        Outsourcing                    1     34                3.0   \n",
       "3              Outro                    2     39                1.0   \n",
       "4              Outro                    1     45                3.0   \n",
       "\n",
       "   tempo_servico  promovido  \n",
       "0              8          0  \n",
       "1              4          0  \n",
       "2              7          0  \n",
       "3             10          0  \n",
       "4              2          0  "
      ]
     },
     "execution_count": 4,
     "metadata": {},
     "output_type": "execute_result"
    }
   ],
   "source": [
    "dadosRH.head()"
   ]
  },
  {
   "cell_type": "code",
   "execution_count": 10,
   "metadata": {},
   "outputs": [
    {
     "data": {
      "text/html": [
       "<div>\n",
       "<style scoped>\n",
       "    .dataframe tbody tr th:only-of-type {\n",
       "        vertical-align: middle;\n",
       "    }\n",
       "\n",
       "    .dataframe tbody tr th {\n",
       "        vertical-align: top;\n",
       "    }\n",
       "\n",
       "    .dataframe thead th {\n",
       "        text-align: right;\n",
       "    }\n",
       "</style>\n",
       "<table border=\"1\" class=\"dataframe\">\n",
       "  <thead>\n",
       "    <tr style=\"text-align: right;\">\n",
       "      <th></th>\n",
       "      <th>id_funcionario</th>\n",
       "      <th>departmento</th>\n",
       "      <th>regiao</th>\n",
       "      <th>educacao</th>\n",
       "      <th>genero</th>\n",
       "      <th>canal_recrutamento</th>\n",
       "      <th>numero_treinamentos</th>\n",
       "      <th>idade</th>\n",
       "      <th>aval_ano_anterior</th>\n",
       "      <th>tempo_servico</th>\n",
       "      <th>promovido</th>\n",
       "    </tr>\n",
       "  </thead>\n",
       "  <tbody>\n",
       "    <tr>\n",
       "      <th>54803</th>\n",
       "      <td>3030</td>\n",
       "      <td>Tecnologia</td>\n",
       "      <td>Sudeste</td>\n",
       "      <td>Superior</td>\n",
       "      <td>M</td>\n",
       "      <td>Outsourcing</td>\n",
       "      <td>1</td>\n",
       "      <td>48</td>\n",
       "      <td>3.0</td>\n",
       "      <td>17</td>\n",
       "      <td>0</td>\n",
       "    </tr>\n",
       "    <tr>\n",
       "      <th>54804</th>\n",
       "      <td>74592</td>\n",
       "      <td>Logistica</td>\n",
       "      <td>Nordeste</td>\n",
       "      <td>Mestrado ou Doutorado</td>\n",
       "      <td>F</td>\n",
       "      <td>Outro</td>\n",
       "      <td>1</td>\n",
       "      <td>37</td>\n",
       "      <td>2.0</td>\n",
       "      <td>6</td>\n",
       "      <td>0</td>\n",
       "    </tr>\n",
       "    <tr>\n",
       "      <th>54805</th>\n",
       "      <td>13918</td>\n",
       "      <td>Analytics</td>\n",
       "      <td>Sudeste</td>\n",
       "      <td>Superior</td>\n",
       "      <td>M</td>\n",
       "      <td>Outro</td>\n",
       "      <td>1</td>\n",
       "      <td>27</td>\n",
       "      <td>5.0</td>\n",
       "      <td>3</td>\n",
       "      <td>0</td>\n",
       "    </tr>\n",
       "    <tr>\n",
       "      <th>54806</th>\n",
       "      <td>13614</td>\n",
       "      <td>Marketing</td>\n",
       "      <td>Nordeste</td>\n",
       "      <td>NaN</td>\n",
       "      <td>M</td>\n",
       "      <td>Outsourcing</td>\n",
       "      <td>1</td>\n",
       "      <td>29</td>\n",
       "      <td>1.0</td>\n",
       "      <td>2</td>\n",
       "      <td>0</td>\n",
       "    </tr>\n",
       "    <tr>\n",
       "      <th>54807</th>\n",
       "      <td>51526</td>\n",
       "      <td>RH</td>\n",
       "      <td>Nordeste</td>\n",
       "      <td>Superior</td>\n",
       "      <td>M</td>\n",
       "      <td>Outro</td>\n",
       "      <td>1</td>\n",
       "      <td>27</td>\n",
       "      <td>1.0</td>\n",
       "      <td>5</td>\n",
       "      <td>0</td>\n",
       "    </tr>\n",
       "  </tbody>\n",
       "</table>\n",
       "</div>"
      ],
      "text/plain": [
       "       id_funcionario departmento    regiao               educacao genero  \\\n",
       "54803            3030  Tecnologia   Sudeste               Superior      M   \n",
       "54804           74592   Logistica  Nordeste  Mestrado ou Doutorado      F   \n",
       "54805           13918   Analytics   Sudeste               Superior      M   \n",
       "54806           13614   Marketing  Nordeste                    NaN      M   \n",
       "54807           51526          RH  Nordeste               Superior      M   \n",
       "\n",
       "      canal_recrutamento  numero_treinamentos  idade  aval_ano_anterior  \\\n",
       "54803        Outsourcing                    1     48                3.0   \n",
       "54804              Outro                    1     37                2.0   \n",
       "54805              Outro                    1     27                5.0   \n",
       "54806        Outsourcing                    1     29                1.0   \n",
       "54807              Outro                    1     27                1.0   \n",
       "\n",
       "       tempo_servico  promovido  \n",
       "54803             17          0  \n",
       "54804              6          0  \n",
       "54805              3          0  \n",
       "54806              2          0  \n",
       "54807              5          0  "
      ]
     },
     "execution_count": 10,
     "metadata": {},
     "output_type": "execute_result"
    }
   ],
   "source": [
    "dadosRH.tail()"
   ]
  },
  {
   "cell_type": "code",
   "execution_count": 5,
   "metadata": {
    "colab": {
     "base_uri": "https://localhost:8080/",
     "height": 399
    },
    "colab_type": "code",
    "executionInfo": {
     "elapsed": 52619,
     "status": "ok",
     "timestamp": 1593698494811,
     "user": {
      "displayName": "work data",
      "photoUrl": "",
      "userId": "01648815589157946143"
     },
     "user_tz": -330
    },
    "id": "fT1X96Wrjnpf",
    "outputId": "359b9949-7cd0-4f48-b907-83cc9cf17086"
   },
   "outputs": [
    {
     "data": {
      "text/plain": [
       "(54808, 11)"
      ]
     },
     "execution_count": 5,
     "metadata": {},
     "output_type": "execute_result"
    }
   ],
   "source": [
    "dadosRH.shape"
   ]
  },
  {
   "cell_type": "markdown",
   "metadata": {},
   "source": [
    "## Análise Exploratória, Limpeza e Transformação de Dados\n",
    "\n",
    "Manipular os dados e corrigir eventuais problemas."
   ]
  },
  {
   "cell_type": "code",
   "execution_count": null,
   "metadata": {
    "colab": {
     "base_uri": "https://localhost:8080/",
     "height": 290
    },
    "colab_type": "code",
    "executionInfo": {
     "elapsed": 52608,
     "status": "ok",
     "timestamp": 1593698494813,
     "user": {
      "displayName": "work data",
      "photoUrl": "",
      "userId": "01648815589157946143"
     },
     "user_tz": -330
    },
    "id": "PITQDwyrjqwS",
    "outputId": "5920b0bd-1740-47c5-e80f-8ee0460291a0"
   },
   "outputs": [],
   "source": [
    "# verificar e contar se há valores nulos no dataset\n",
    "dadosRH.isnull().sum()"
   ]
  },
  {
   "cell_type": "code",
   "execution_count": 11,
   "metadata": {
    "colab": {
     "base_uri": "https://localhost:8080/",
     "height": 247
    },
    "colab_type": "code",
    "executionInfo": {
     "elapsed": 52604,
     "status": "ok",
     "timestamp": 1593698494814,
     "user": {
      "displayName": "work data",
      "photoUrl": "",
      "userId": "01648815589157946143"
     },
     "user_tz": -330
    },
    "id": "GRb7elZOjuDk",
    "outputId": "87d020f7-6f6e-411f-b329-44f766740cc7"
   },
   "outputs": [
    {
     "data": {
      "text/html": [
       "<div>\n",
       "<style scoped>\n",
       "    .dataframe tbody tr th:only-of-type {\n",
       "        vertical-align: middle;\n",
       "    }\n",
       "\n",
       "    .dataframe tbody tr th {\n",
       "        vertical-align: top;\n",
       "    }\n",
       "\n",
       "    .dataframe thead th {\n",
       "        text-align: right;\n",
       "    }\n",
       "</style>\n",
       "<table border=\"1\" class=\"dataframe\">\n",
       "  <thead>\n",
       "    <tr style=\"text-align: right;\">\n",
       "      <th></th>\n",
       "      <th>id_funcionario</th>\n",
       "      <th>departmento</th>\n",
       "      <th>regiao</th>\n",
       "      <th>genero</th>\n",
       "      <th>canal_recrutamento</th>\n",
       "      <th>numero_treinamentos</th>\n",
       "      <th>idade</th>\n",
       "      <th>aval_ano_anterior</th>\n",
       "      <th>tempo_servico</th>\n",
       "      <th>promovido</th>\n",
       "    </tr>\n",
       "    <tr>\n",
       "      <th>educacao</th>\n",
       "      <th></th>\n",
       "      <th></th>\n",
       "      <th></th>\n",
       "      <th></th>\n",
       "      <th></th>\n",
       "      <th></th>\n",
       "      <th></th>\n",
       "      <th></th>\n",
       "      <th></th>\n",
       "      <th></th>\n",
       "    </tr>\n",
       "  </thead>\n",
       "  <tbody>\n",
       "    <tr>\n",
       "      <th>Ensino Medio</th>\n",
       "      <td>805</td>\n",
       "      <td>805</td>\n",
       "      <td>805</td>\n",
       "      <td>805</td>\n",
       "      <td>805</td>\n",
       "      <td>805</td>\n",
       "      <td>805</td>\n",
       "      <td>458</td>\n",
       "      <td>805</td>\n",
       "      <td>805</td>\n",
       "    </tr>\n",
       "    <tr>\n",
       "      <th>Mestrado ou Doutorado</th>\n",
       "      <td>14925</td>\n",
       "      <td>14925</td>\n",
       "      <td>14925</td>\n",
       "      <td>14925</td>\n",
       "      <td>14925</td>\n",
       "      <td>14925</td>\n",
       "      <td>14925</td>\n",
       "      <td>14798</td>\n",
       "      <td>14925</td>\n",
       "      <td>14925</td>\n",
       "    </tr>\n",
       "    <tr>\n",
       "      <th>Superior</th>\n",
       "      <td>36669</td>\n",
       "      <td>36669</td>\n",
       "      <td>36669</td>\n",
       "      <td>36669</td>\n",
       "      <td>36669</td>\n",
       "      <td>36669</td>\n",
       "      <td>36669</td>\n",
       "      <td>33404</td>\n",
       "      <td>36669</td>\n",
       "      <td>36669</td>\n",
       "    </tr>\n",
       "  </tbody>\n",
       "</table>\n",
       "</div>"
      ],
      "text/plain": [
       "                       id_funcionario  departmento  regiao  genero  \\\n",
       "educacao                                                             \n",
       "Ensino Medio                      805          805     805     805   \n",
       "Mestrado ou Doutorado           14925        14925   14925   14925   \n",
       "Superior                        36669        36669   36669   36669   \n",
       "\n",
       "                       canal_recrutamento  numero_treinamentos  idade  \\\n",
       "educacao                                                                \n",
       "Ensino Medio                          805                  805    805   \n",
       "Mestrado ou Doutorado               14925                14925  14925   \n",
       "Superior                            36669                36669  36669   \n",
       "\n",
       "                       aval_ano_anterior  tempo_servico  promovido  \n",
       "educacao                                                            \n",
       "Ensino Medio                         458            805        805  \n",
       "Mestrado ou Doutorado              14798          14925      14925  \n",
       "Superior                           33404          36669      36669  "
      ]
     },
     "execution_count": 11,
     "metadata": {},
     "output_type": "execute_result"
    }
   ],
   "source": [
    "# verificar quantos registros existem na coluna educação (exceto nulos)\n",
    "dadosRH.groupby(['educacao']).count()"
   ]
  },
  {
   "cell_type": "code",
   "execution_count": 12,
   "metadata": {
    "colab": {
     "base_uri": "https://localhost:8080/",
     "height": 297
    },
    "colab_type": "code",
    "executionInfo": {
     "elapsed": 52600,
     "status": "ok",
     "timestamp": 1593698494816,
     "user": {
      "displayName": "work data",
      "photoUrl": "",
      "userId": "01648815589157946143"
     },
     "user_tz": -330
    },
    "id": "gKWehFOhjx1U",
    "outputId": "8ec2d52b-e0fa-4d54-a2c8-0474a4702ac6"
   },
   "outputs": [
    {
     "data": {
      "text/plain": [
       "<AxesSubplot:xlabel='educacao', ylabel='count'>"
      ]
     },
     "execution_count": 12,
     "metadata": {},
     "output_type": "execute_result"
    },
    {
     "data": {
      "image/png": "[encoded data removed]",
      "text/plain": [
       "<Figure size 432x288 with 1 Axes>"
      ]
     },
     "metadata": {
      "needs_background": "light"
     },
     "output_type": "display_data"
    }
   ],
   "source": [
    "sns.countplot(dadosRH['educacao'])"
   ]
  },
  {
   "cell_type": "code",
   "execution_count": 13,
   "metadata": {
    "colab": {
     "base_uri": "https://localhost:8080/",
     "height": 275
    },
    "colab_type": "code",
    "executionInfo": {
     "elapsed": 53067,
     "status": "ok",
     "timestamp": 1593698495290,
     "user": {
      "displayName": "work data",
      "photoUrl": "",
      "userId": "01648815589157946143"
     },
     "user_tz": -330
    },
    "id": "BOD90Ycjj1oU",
    "outputId": "89be0cf2-edfe-416d-b509-bc0f8ec84485"
   },
   "outputs": [
    {
     "data": {
      "text/html": [
       "<div>\n",
       "<style scoped>\n",
       "    .dataframe tbody tr th:only-of-type {\n",
       "        vertical-align: middle;\n",
       "    }\n",
       "\n",
       "    .dataframe tbody tr th {\n",
       "        vertical-align: top;\n",
       "    }\n",
       "\n",
       "    .dataframe thead th {\n",
       "        text-align: right;\n",
       "    }\n",
       "</style>\n",
       "<table border=\"1\" class=\"dataframe\">\n",
       "  <thead>\n",
       "    <tr style=\"text-align: right;\">\n",
       "      <th></th>\n",
       "      <th>id_funcionario</th>\n",
       "      <th>departmento</th>\n",
       "      <th>regiao</th>\n",
       "      <th>educacao</th>\n",
       "      <th>genero</th>\n",
       "      <th>canal_recrutamento</th>\n",
       "      <th>numero_treinamentos</th>\n",
       "      <th>idade</th>\n",
       "      <th>tempo_servico</th>\n",
       "      <th>promovido</th>\n",
       "    </tr>\n",
       "    <tr>\n",
       "      <th>aval_ano_anterior</th>\n",
       "      <th></th>\n",
       "      <th></th>\n",
       "      <th></th>\n",
       "      <th></th>\n",
       "      <th></th>\n",
       "      <th></th>\n",
       "      <th></th>\n",
       "      <th></th>\n",
       "      <th></th>\n",
       "      <th></th>\n",
       "    </tr>\n",
       "  </thead>\n",
       "  <tbody>\n",
       "    <tr>\n",
       "      <th>1.0</th>\n",
       "      <td>6223</td>\n",
       "      <td>6223</td>\n",
       "      <td>6223</td>\n",
       "      <td>5887</td>\n",
       "      <td>6223</td>\n",
       "      <td>6223</td>\n",
       "      <td>6223</td>\n",
       "      <td>6223</td>\n",
       "      <td>6223</td>\n",
       "      <td>6223</td>\n",
       "    </tr>\n",
       "    <tr>\n",
       "      <th>2.0</th>\n",
       "      <td>4225</td>\n",
       "      <td>4225</td>\n",
       "      <td>4225</td>\n",
       "      <td>4035</td>\n",
       "      <td>4225</td>\n",
       "      <td>4225</td>\n",
       "      <td>4225</td>\n",
       "      <td>4225</td>\n",
       "      <td>4225</td>\n",
       "      <td>4225</td>\n",
       "    </tr>\n",
       "    <tr>\n",
       "      <th>3.0</th>\n",
       "      <td>18618</td>\n",
       "      <td>18618</td>\n",
       "      <td>18618</td>\n",
       "      <td>17867</td>\n",
       "      <td>18618</td>\n",
       "      <td>18618</td>\n",
       "      <td>18618</td>\n",
       "      <td>18618</td>\n",
       "      <td>18618</td>\n",
       "      <td>18618</td>\n",
       "    </tr>\n",
       "    <tr>\n",
       "      <th>4.0</th>\n",
       "      <td>9877</td>\n",
       "      <td>9877</td>\n",
       "      <td>9877</td>\n",
       "      <td>9509</td>\n",
       "      <td>9877</td>\n",
       "      <td>9877</td>\n",
       "      <td>9877</td>\n",
       "      <td>9877</td>\n",
       "      <td>9877</td>\n",
       "      <td>9877</td>\n",
       "    </tr>\n",
       "    <tr>\n",
       "      <th>5.0</th>\n",
       "      <td>11741</td>\n",
       "      <td>11741</td>\n",
       "      <td>11741</td>\n",
       "      <td>11362</td>\n",
       "      <td>11741</td>\n",
       "      <td>11741</td>\n",
       "      <td>11741</td>\n",
       "      <td>11741</td>\n",
       "      <td>11741</td>\n",
       "      <td>11741</td>\n",
       "    </tr>\n",
       "  </tbody>\n",
       "</table>\n",
       "</div>"
      ],
      "text/plain": [
       "                   id_funcionario  departmento  regiao  educacao  genero  \\\n",
       "aval_ano_anterior                                                          \n",
       "1.0                          6223         6223    6223      5887    6223   \n",
       "2.0                          4225         4225    4225      4035    4225   \n",
       "3.0                         18618        18618   18618     17867   18618   \n",
       "4.0                          9877         9877    9877      9509    9877   \n",
       "5.0                         11741        11741   11741     11362   11741   \n",
       "\n",
       "                   canal_recrutamento  numero_treinamentos  idade  \\\n",
       "aval_ano_anterior                                                   \n",
       "1.0                              6223                 6223   6223   \n",
       "2.0                              4225                 4225   4225   \n",
       "3.0                             18618                18618  18618   \n",
       "4.0                              9877                 9877   9877   \n",
       "5.0                             11741                11741  11741   \n",
       "\n",
       "                   tempo_servico  promovido  \n",
       "aval_ano_anterior                            \n",
       "1.0                         6223       6223  \n",
       "2.0                         4225       4225  \n",
       "3.0                        18618      18618  \n",
       "4.0                         9877       9877  \n",
       "5.0                        11741      11741  "
      ]
     },
     "execution_count": 13,
     "metadata": {},
     "output_type": "execute_result"
    }
   ],
   "source": [
    "dadosRH.groupby(['aval_ano_anterior']).count()"
   ]
  },
  {
   "cell_type": "code",
   "execution_count": 14,
   "metadata": {
    "colab": {
     "base_uri": "https://localhost:8080/",
     "height": 298
    },
    "colab_type": "code",
    "executionInfo": {
     "elapsed": 53064,
     "status": "ok",
     "timestamp": 1593698495293,
     "user": {
      "displayName": "work data",
      "photoUrl": "",
      "userId": "01648815589157946143"
     },
     "user_tz": -330
    },
    "id": "2zwyIkVGkCCx",
    "outputId": "5410af54-0d77-46f9-82c0-8b6019ad8742"
   },
   "outputs": [
    {
     "data": {
      "text/plain": [
       "<AxesSubplot:xlabel='aval_ano_anterior', ylabel='count'>"
      ]
     },
     "execution_count": 14,
     "metadata": {},
     "output_type": "execute_result"
    },
    {
     "data": {
      "image/png": "[encoded data removed]",
      "text/plain": [
       "<Figure size 432x288 with 1 Axes>"
      ]
     },
     "metadata": {
      "needs_background": "light"
     },
     "output_type": "display_data"
    }
   ],
   "source": [
    "sns.countplot(dadosRH['aval_ano_anterior'])"
   ]
  },
  {
   "cell_type": "markdown",
   "metadata": {},
   "source": [
    "Aplicando imputação e preenchendo os valores ausentes"
   ]
  },
  {
   "cell_type": "code",
   "execution_count": 15,
   "metadata": {
    "colab": {},
    "colab_type": "code",
    "executionInfo": {
     "elapsed": 53063,
     "status": "ok",
     "timestamp": 1593698495295,
     "user": {
      "displayName": "work data",
      "photoUrl": "",
      "userId": "01648815589157946143"
     },
     "user_tz": -330
    },
    "id": "vSnmkA63kIee"
   },
   "outputs": [],
   "source": [
    "# para coluna educação substituir valores nulos pela moda\n",
    "dadosRH['educacao'].fillna(dadosRH['educacao'].mode()[0], inplace = True)"
   ]
  },
  {
   "cell_type": "code",
   "execution_count": 17,
   "metadata": {
    "colab": {},
    "colab_type": "code",
    "executionInfo": {
     "elapsed": 53063,
     "status": "ok",
     "timestamp": 1593698495297,
     "user": {
      "displayName": "work data",
      "photoUrl": "",
      "userId": "01648815589157946143"
     },
     "user_tz": -330
    },
    "id": "5fkYpTLEkP63"
   },
   "outputs": [],
   "source": [
    "# substituir valores nulos pela mediana\n",
    "dadosRH['aval_ano_anterior'].fillna(dadosRH['aval_ano_anterior'].median(), inplace = True)"
   ]
  },
  {
   "cell_type": "code",
   "execution_count": 18,
   "metadata": {
    "colab": {
     "base_uri": "https://localhost:8080/",
     "height": 290
    },
    "colab_type": "code",
    "executionInfo": {
     "elapsed": 53058,
     "status": "ok",
     "timestamp": 1593698495299,
     "user": {
      "displayName": "work data",
      "photoUrl": "",
      "userId": "01648815589157946143"
     },
     "user_tz": -330
    },
    "id": "RacxdeaXlI3T",
    "outputId": "1d9dd074-1b60-4691-eaae-36371c1ef0e6"
   },
   "outputs": [
    {
     "data": {
      "text/plain": [
       "id_funcionario         0\n",
       "departmento            0\n",
       "regiao                 0\n",
       "educacao               0\n",
       "genero                 0\n",
       "canal_recrutamento     0\n",
       "numero_treinamentos    0\n",
       "idade                  0\n",
       "aval_ano_anterior      0\n",
       "tempo_servico          0\n",
       "promovido              0\n",
       "dtype: int64"
      ]
     },
     "execution_count": 18,
     "metadata": {},
     "output_type": "execute_result"
    }
   ],
   "source": [
    "dadosRH.isnull().sum()"
   ]
  },
  {
   "cell_type": "code",
   "execution_count": 19,
   "metadata": {},
   "outputs": [
    {
     "data": {
      "text/plain": [
       "(54808, 11)"
      ]
     },
     "execution_count": 19,
     "metadata": {},
     "output_type": "execute_result"
    }
   ],
   "source": [
    "dadosRH.shape"
   ]
  },
  {
   "cell_type": "code",
   "execution_count": 20,
   "metadata": {},
   "outputs": [
    {
     "data": {
      "text/html": [
       "<div>\n",
       "<style scoped>\n",
       "    .dataframe tbody tr th:only-of-type {\n",
       "        vertical-align: middle;\n",
       "    }\n",
       "\n",
       "    .dataframe tbody tr th {\n",
       "        vertical-align: top;\n",
       "    }\n",
       "\n",
       "    .dataframe thead th {\n",
       "        text-align: right;\n",
       "    }\n",
       "</style>\n",
       "<table border=\"1\" class=\"dataframe\">\n",
       "  <thead>\n",
       "    <tr style=\"text-align: right;\">\n",
       "      <th></th>\n",
       "      <th>id_funcionario</th>\n",
       "      <th>departmento</th>\n",
       "      <th>regiao</th>\n",
       "      <th>genero</th>\n",
       "      <th>canal_recrutamento</th>\n",
       "      <th>numero_treinamentos</th>\n",
       "      <th>idade</th>\n",
       "      <th>aval_ano_anterior</th>\n",
       "      <th>tempo_servico</th>\n",
       "      <th>promovido</th>\n",
       "    </tr>\n",
       "    <tr>\n",
       "      <th>educacao</th>\n",
       "      <th></th>\n",
       "      <th></th>\n",
       "      <th></th>\n",
       "      <th></th>\n",
       "      <th></th>\n",
       "      <th></th>\n",
       "      <th></th>\n",
       "      <th></th>\n",
       "      <th></th>\n",
       "      <th></th>\n",
       "    </tr>\n",
       "  </thead>\n",
       "  <tbody>\n",
       "    <tr>\n",
       "      <th>Ensino Medio</th>\n",
       "      <td>805</td>\n",
       "      <td>805</td>\n",
       "      <td>805</td>\n",
       "      <td>805</td>\n",
       "      <td>805</td>\n",
       "      <td>805</td>\n",
       "      <td>805</td>\n",
       "      <td>805</td>\n",
       "      <td>805</td>\n",
       "      <td>805</td>\n",
       "    </tr>\n",
       "    <tr>\n",
       "      <th>Mestrado ou Doutorado</th>\n",
       "      <td>14925</td>\n",
       "      <td>14925</td>\n",
       "      <td>14925</td>\n",
       "      <td>14925</td>\n",
       "      <td>14925</td>\n",
       "      <td>14925</td>\n",
       "      <td>14925</td>\n",
       "      <td>14925</td>\n",
       "      <td>14925</td>\n",
       "      <td>14925</td>\n",
       "    </tr>\n",
       "    <tr>\n",
       "      <th>Superior</th>\n",
       "      <td>39078</td>\n",
       "      <td>39078</td>\n",
       "      <td>39078</td>\n",
       "      <td>39078</td>\n",
       "      <td>39078</td>\n",
       "      <td>39078</td>\n",
       "      <td>39078</td>\n",
       "      <td>39078</td>\n",
       "      <td>39078</td>\n",
       "      <td>39078</td>\n",
       "    </tr>\n",
       "  </tbody>\n",
       "</table>\n",
       "</div>"
      ],
      "text/plain": [
       "                       id_funcionario  departmento  regiao  genero  \\\n",
       "educacao                                                             \n",
       "Ensino Medio                      805          805     805     805   \n",
       "Mestrado ou Doutorado           14925        14925   14925   14925   \n",
       "Superior                        39078        39078   39078   39078   \n",
       "\n",
       "                       canal_recrutamento  numero_treinamentos  idade  \\\n",
       "educacao                                                                \n",
       "Ensino Medio                          805                  805    805   \n",
       "Mestrado ou Doutorado               14925                14925  14925   \n",
       "Superior                            39078                39078  39078   \n",
       "\n",
       "                       aval_ano_anterior  tempo_servico  promovido  \n",
       "educacao                                                            \n",
       "Ensino Medio                         805            805        805  \n",
       "Mestrado ou Doutorado              14925          14925      14925  \n",
       "Superior                           39078          39078      39078  "
      ]
     },
     "execution_count": 20,
     "metadata": {},
     "output_type": "execute_result"
    }
   ],
   "source": [
    "dadosRH.groupby(['educacao']).count()"
   ]
  },
  {
   "cell_type": "code",
   "execution_count": 21,
   "metadata": {},
   "outputs": [
    {
     "data": {
      "text/html": [
       "<div>\n",
       "<style scoped>\n",
       "    .dataframe tbody tr th:only-of-type {\n",
       "        vertical-align: middle;\n",
       "    }\n",
       "\n",
       "    .dataframe tbody tr th {\n",
       "        vertical-align: top;\n",
       "    }\n",
       "\n",
       "    .dataframe thead th {\n",
       "        text-align: right;\n",
       "    }\n",
       "</style>\n",
       "<table border=\"1\" class=\"dataframe\">\n",
       "  <thead>\n",
       "    <tr style=\"text-align: right;\">\n",
       "      <th></th>\n",
       "      <th>id_funcionario</th>\n",
       "      <th>departmento</th>\n",
       "      <th>regiao</th>\n",
       "      <th>educacao</th>\n",
       "      <th>genero</th>\n",
       "      <th>canal_recrutamento</th>\n",
       "      <th>numero_treinamentos</th>\n",
       "      <th>idade</th>\n",
       "      <th>tempo_servico</th>\n",
       "      <th>promovido</th>\n",
       "    </tr>\n",
       "    <tr>\n",
       "      <th>aval_ano_anterior</th>\n",
       "      <th></th>\n",
       "      <th></th>\n",
       "      <th></th>\n",
       "      <th></th>\n",
       "      <th></th>\n",
       "      <th></th>\n",
       "      <th></th>\n",
       "      <th></th>\n",
       "      <th></th>\n",
       "      <th></th>\n",
       "    </tr>\n",
       "  </thead>\n",
       "  <tbody>\n",
       "    <tr>\n",
       "      <th>1.0</th>\n",
       "      <td>6223</td>\n",
       "      <td>6223</td>\n",
       "      <td>6223</td>\n",
       "      <td>6223</td>\n",
       "      <td>6223</td>\n",
       "      <td>6223</td>\n",
       "      <td>6223</td>\n",
       "      <td>6223</td>\n",
       "      <td>6223</td>\n",
       "      <td>6223</td>\n",
       "    </tr>\n",
       "    <tr>\n",
       "      <th>2.0</th>\n",
       "      <td>4225</td>\n",
       "      <td>4225</td>\n",
       "      <td>4225</td>\n",
       "      <td>4225</td>\n",
       "      <td>4225</td>\n",
       "      <td>4225</td>\n",
       "      <td>4225</td>\n",
       "      <td>4225</td>\n",
       "      <td>4225</td>\n",
       "      <td>4225</td>\n",
       "    </tr>\n",
       "    <tr>\n",
       "      <th>3.0</th>\n",
       "      <td>22742</td>\n",
       "      <td>22742</td>\n",
       "      <td>22742</td>\n",
       "      <td>22742</td>\n",
       "      <td>22742</td>\n",
       "      <td>22742</td>\n",
       "      <td>22742</td>\n",
       "      <td>22742</td>\n",
       "      <td>22742</td>\n",
       "      <td>22742</td>\n",
       "    </tr>\n",
       "    <tr>\n",
       "      <th>4.0</th>\n",
       "      <td>9877</td>\n",
       "      <td>9877</td>\n",
       "      <td>9877</td>\n",
       "      <td>9877</td>\n",
       "      <td>9877</td>\n",
       "      <td>9877</td>\n",
       "      <td>9877</td>\n",
       "      <td>9877</td>\n",
       "      <td>9877</td>\n",
       "      <td>9877</td>\n",
       "    </tr>\n",
       "    <tr>\n",
       "      <th>5.0</th>\n",
       "      <td>11741</td>\n",
       "      <td>11741</td>\n",
       "      <td>11741</td>\n",
       "      <td>11741</td>\n",
       "      <td>11741</td>\n",
       "      <td>11741</td>\n",
       "      <td>11741</td>\n",
       "      <td>11741</td>\n",
       "      <td>11741</td>\n",
       "      <td>11741</td>\n",
       "    </tr>\n",
       "  </tbody>\n",
       "</table>\n",
       "</div>"
      ],
      "text/plain": [
       "                   id_funcionario  departmento  regiao  educacao  genero  \\\n",
       "aval_ano_anterior                                                          \n",
       "1.0                          6223         6223    6223      6223    6223   \n",
       "2.0                          4225         4225    4225      4225    4225   \n",
       "3.0                         22742        22742   22742     22742   22742   \n",
       "4.0                          9877         9877    9877      9877    9877   \n",
       "5.0                         11741        11741   11741     11741   11741   \n",
       "\n",
       "                   canal_recrutamento  numero_treinamentos  idade  \\\n",
       "aval_ano_anterior                                                   \n",
       "1.0                              6223                 6223   6223   \n",
       "2.0                              4225                 4225   4225   \n",
       "3.0                             22742                22742  22742   \n",
       "4.0                              9877                 9877   9877   \n",
       "5.0                             11741                11741  11741   \n",
       "\n",
       "                   tempo_servico  promovido  \n",
       "aval_ano_anterior                            \n",
       "1.0                         6223       6223  \n",
       "2.0                         4225       4225  \n",
       "3.0                        22742      22742  \n",
       "4.0                         9877       9877  \n",
       "5.0                        11741      11741  "
      ]
     },
     "execution_count": 21,
     "metadata": {},
     "output_type": "execute_result"
    }
   ],
   "source": [
    "dadosRH.groupby(['aval_ano_anterior']).count()"
   ]
  },
  {
   "cell_type": "markdown",
   "metadata": {},
   "source": [
    "Verificar o balanceamento de classe na variável \"promovido\"."
   ]
  },
  {
   "cell_type": "code",
   "execution_count": 19,
   "metadata": {
    "colab": {
     "base_uri": "https://localhost:8080/",
     "height": 181
    },
    "colab_type": "code",
    "executionInfo": {
     "elapsed": 56941,
     "status": "ok",
     "timestamp": 1593698499196,
     "user": {
      "displayName": "work data",
      "photoUrl": "",
      "userId": "01648815589157946143"
     },
     "user_tz": -330
    },
    "id": "ViwkeH9Ynnbj",
    "outputId": "5d3ba7b5-e854-44c8-89ac-d585f093ad66"
   },
   "outputs": [
    {
     "data": {
      "text/html": [
       "<div>\n",
       "<style scoped>\n",
       "    .dataframe tbody tr th:only-of-type {\n",
       "        vertical-align: middle;\n",
       "    }\n",
       "\n",
       "    .dataframe tbody tr th {\n",
       "        vertical-align: top;\n",
       "    }\n",
       "\n",
       "    .dataframe thead th {\n",
       "        text-align: right;\n",
       "    }\n",
       "</style>\n",
       "<table border=\"1\" class=\"dataframe\">\n",
       "  <thead>\n",
       "    <tr style=\"text-align: right;\">\n",
       "      <th></th>\n",
       "      <th>id_funcionario</th>\n",
       "      <th>departmento</th>\n",
       "      <th>regiao</th>\n",
       "      <th>educacao</th>\n",
       "      <th>genero</th>\n",
       "      <th>canal_recrutamento</th>\n",
       "      <th>numero_treinamentos</th>\n",
       "      <th>idade</th>\n",
       "      <th>aval_ano_anterior</th>\n",
       "      <th>tempo_servico</th>\n",
       "    </tr>\n",
       "    <tr>\n",
       "      <th>promovido</th>\n",
       "      <th></th>\n",
       "      <th></th>\n",
       "      <th></th>\n",
       "      <th></th>\n",
       "      <th></th>\n",
       "      <th></th>\n",
       "      <th></th>\n",
       "      <th></th>\n",
       "      <th></th>\n",
       "      <th></th>\n",
       "    </tr>\n",
       "  </thead>\n",
       "  <tbody>\n",
       "    <tr>\n",
       "      <th>0</th>\n",
       "      <td>50140</td>\n",
       "      <td>50140</td>\n",
       "      <td>50140</td>\n",
       "      <td>50140</td>\n",
       "      <td>50140</td>\n",
       "      <td>50140</td>\n",
       "      <td>50140</td>\n",
       "      <td>50140</td>\n",
       "      <td>50140</td>\n",
       "      <td>50140</td>\n",
       "    </tr>\n",
       "    <tr>\n",
       "      <th>1</th>\n",
       "      <td>4668</td>\n",
       "      <td>4668</td>\n",
       "      <td>4668</td>\n",
       "      <td>4668</td>\n",
       "      <td>4668</td>\n",
       "      <td>4668</td>\n",
       "      <td>4668</td>\n",
       "      <td>4668</td>\n",
       "      <td>4668</td>\n",
       "      <td>4668</td>\n",
       "    </tr>\n",
       "  </tbody>\n",
       "</table>\n",
       "</div>"
      ],
      "text/plain": [
       "           id_funcionario  departmento  regiao  educacao  genero  \\\n",
       "promovido                                                          \n",
       "0                   50140        50140   50140     50140   50140   \n",
       "1                    4668         4668    4668      4668    4668   \n",
       "\n",
       "           canal_recrutamento  numero_treinamentos  idade  aval_ano_anterior  \\\n",
       "promovido                                                                      \n",
       "0                       50140                50140  50140              50140   \n",
       "1                        4668                 4668   4668               4668   \n",
       "\n",
       "           tempo_servico  \n",
       "promovido                 \n",
       "0                  50140  \n",
       "1                   4668  "
      ]
     },
     "execution_count": 19,
     "metadata": {},
     "output_type": "execute_result"
    }
   ],
   "source": [
    "dadosRH.groupby(['promovido']).count()"
   ]
  },
  {
   "cell_type": "code",
   "execution_count": 20,
   "metadata": {
    "colab": {
     "base_uri": "https://localhost:8080/",
     "height": 298
    },
    "colab_type": "code",
    "executionInfo": {
     "elapsed": 56939,
     "status": "ok",
     "timestamp": 1593698499199,
     "user": {
      "displayName": "work data",
      "photoUrl": "",
      "userId": "01648815589157946143"
     },
     "user_tz": -330
    },
    "id": "Fcc-ez0voIKR",
    "outputId": "3489579a-96cb-4e6b-d336-2b2af6e12d66"
   },
   "outputs": [
    {
     "data": {
      "text/plain": [
       "<matplotlib.axes._subplots.AxesSubplot at 0x1aa6cc2d070>"
      ]
     },
     "execution_count": 20,
     "metadata": {},
     "output_type": "execute_result"
    },
    {
     "data": {
      "image/png": "[encoded data removed]",
      "text/plain": [
       "<Figure size 432x288 with 1 Axes>"
      ]
     },
     "metadata": {
      "needs_background": "light"
     },
     "output_type": "display_data"
    }
   ],
   "source": [
    "sns.countplot(dadosRH['promovido'])"
   ]
  },
  {
   "cell_type": "code",
   "execution_count": 23,
   "metadata": {
    "colab": {
     "base_uri": "https://localhost:8080/",
     "height": 72
    },
    "colab_type": "code",
    "executionInfo": {
     "elapsed": 56934,
     "status": "ok",
     "timestamp": 1593698499199,
     "user": {
      "displayName": "work data",
      "photoUrl": "",
      "userId": "01648815589157946143"
     },
     "user_tz": -330
    },
    "id": "Dvh71WWtrPRp",
    "outputId": "c83dd245-3b86-4f11-c0e1-3ae9fbdca692"
   },
   "outputs": [],
   "source": [
    "df_classe_majoritaria = dadosRH[dadosRH.promovido==0]\n",
    "df_classe_minoritaria = dadosRH[dadosRH.promovido==1]"
   ]
  },
  {
   "cell_type": "code",
   "execution_count": 24,
   "metadata": {},
   "outputs": [
    {
     "data": {
      "text/plain": [
       "(50140, 11)"
      ]
     },
     "execution_count": 24,
     "metadata": {},
     "output_type": "execute_result"
    }
   ],
   "source": [
    "df_classe_majoritaria.shape"
   ]
  },
  {
   "cell_type": "code",
   "execution_count": 25,
   "metadata": {},
   "outputs": [
    {
     "data": {
      "text/plain": [
       "(4668, 11)"
      ]
     },
     "execution_count": 25,
     "metadata": {},
     "output_type": "execute_result"
    }
   ],
   "source": [
    "df_classe_minoritaria.shape"
   ]
  },
  {
   "cell_type": "code",
   "execution_count": 26,
   "metadata": {},
   "outputs": [],
   "source": [
    "# Upsample da classe minoritária - balanceamento do conjunto de dados\n",
    "# aumento a classe minoritaria utilizando a reamostragem \n",
    "from sklearn.utils import resample\n",
    "df_classe_minoritaria_upsampled = resample(df_classe_minoritaria, \n",
    "                                           replace = True,     \n",
    "                                           n_samples = 50140,   \n",
    "                                           random_state = 150) "
   ]
  },
  {
   "cell_type": "code",
   "execution_count": 27,
   "metadata": {},
   "outputs": [],
   "source": [
    "dadosRH_balanceados = pd.concat([df_classe_majoritaria, df_classe_minoritaria_upsampled])"
   ]
  },
  {
   "cell_type": "code",
   "execution_count": 28,
   "metadata": {},
   "outputs": [
    {
     "data": {
      "text/plain": [
       "0    50140\n",
       "1    50140\n",
       "Name: promovido, dtype: int64"
      ]
     },
     "execution_count": 28,
     "metadata": {},
     "output_type": "execute_result"
    }
   ],
   "source": [
    "dadosRH_balanceados.promovido.value_counts()"
   ]
  },
  {
   "cell_type": "code",
   "execution_count": 29,
   "metadata": {
    "colab": {
     "base_uri": "https://localhost:8080/",
     "height": 399
    },
    "colab_type": "code",
    "executionInfo": {
     "elapsed": 56930,
     "status": "ok",
     "timestamp": 1593698499201,
     "user": {
      "displayName": "work data",
      "photoUrl": "",
      "userId": "01648815589157946143"
     },
     "user_tz": -330
    },
    "id": "2Ewpso7rvTlZ",
    "outputId": "ea5e438b-d138-4a6f-e986-3e9fa7b2d729"
   },
   "outputs": [
    {
     "name": "stdout",
     "output_type": "stream",
     "text": [
      "<class 'pandas.core.frame.DataFrame'>\n",
      "Int64Index: 100280 entries, 0 to 5869\n",
      "Data columns (total 11 columns):\n",
      " #   Column               Non-Null Count   Dtype  \n",
      "---  ------               --------------   -----  \n",
      " 0   id_funcionario       100280 non-null  int64  \n",
      " 1   departmento          100280 non-null  object \n",
      " 2   regiao               100280 non-null  object \n",
      " 3   educacao             100280 non-null  object \n",
      " 4   genero               100280 non-null  object \n",
      " 5   canal_recrutamento   100280 non-null  object \n",
      " 6   numero_treinamentos  100280 non-null  int64  \n",
      " 7   idade                100280 non-null  int64  \n",
      " 8   aval_ano_anterior    100280 non-null  float64\n",
      " 9   tempo_servico        100280 non-null  int64  \n",
      " 10  promovido            100280 non-null  int64  \n",
      "dtypes: float64(1), int64(5), object(5)\n",
      "memory usage: 9.2+ MB\n"
     ]
    }
   ],
   "source": [
    "dadosRH_balanceados.info()"
   ]
  },
  {
   "cell_type": "code",
   "execution_count": 30,
   "metadata": {
    "colab": {
     "base_uri": "https://localhost:8080/",
     "height": 298
    },
    "colab_type": "code",
    "executionInfo": {
     "elapsed": 56926,
     "status": "ok",
     "timestamp": 1593698499202,
     "user": {
      "displayName": "work data",
      "photoUrl": "",
      "userId": "01648815589157946143"
     },
     "user_tz": -330
    },
    "id": "5pzA1bDCvpk0",
    "outputId": "72049ef5-4ec9-4428-fd73-2e8995ba11c8"
   },
   "outputs": [
    {
     "data": {
      "text/plain": [
       "<AxesSubplot:xlabel='promovido', ylabel='count'>"
      ]
     },
     "execution_count": 30,
     "metadata": {},
     "output_type": "execute_result"
    },
    {
     "data": {
      "image/png": "[encoded data removed]",
      "text/plain": [
       "<Figure size 432x288 with 1 Axes>"
      ]
     },
     "metadata": {
      "needs_background": "light"
     },
     "output_type": "display_data"
    }
   ],
   "source": [
    "sns.countplot(dadosRH_balanceados['promovido'])"
   ]
  },
  {
   "cell_type": "markdown",
   "metadata": {},
   "source": [
    "Os dados estão balanceados. Salvo o dataset com os dados manipulados."
   ]
  },
  {
   "cell_type": "code",
   "execution_count": 31,
   "metadata": {},
   "outputs": [],
   "source": [
    "dadosRH_balanceados.to_csv('dados/dadosRH_modificado.csv', encoding = 'utf-8', index = False)"
   ]
  },
  {
   "cell_type": "markdown",
   "metadata": {},
   "source": [
    "> A partir daqui executaremos também no Power BI."
   ]
  },
  {
   "cell_type": "code",
   "execution_count": 33,
   "metadata": {},
   "outputs": [
    {
     "data": {
      "text/html": [
       "<div>\n",
       "<style scoped>\n",
       "    .dataframe tbody tr th:only-of-type {\n",
       "        vertical-align: middle;\n",
       "    }\n",
       "\n",
       "    .dataframe tbody tr th {\n",
       "        vertical-align: top;\n",
       "    }\n",
       "\n",
       "    .dataframe thead th {\n",
       "        text-align: right;\n",
       "    }\n",
       "</style>\n",
       "<table border=\"1\" class=\"dataframe\">\n",
       "  <thead>\n",
       "    <tr style=\"text-align: right;\">\n",
       "      <th></th>\n",
       "      <th>id_funcionario</th>\n",
       "      <th>departmento</th>\n",
       "      <th>regiao</th>\n",
       "      <th>educacao</th>\n",
       "      <th>genero</th>\n",
       "      <th>canal_recrutamento</th>\n",
       "      <th>numero_treinamentos</th>\n",
       "      <th>idade</th>\n",
       "      <th>aval_ano_anterior</th>\n",
       "      <th>tempo_servico</th>\n",
       "      <th>promovido</th>\n",
       "    </tr>\n",
       "  </thead>\n",
       "  <tbody>\n",
       "    <tr>\n",
       "      <th>0</th>\n",
       "      <td>65438</td>\n",
       "      <td>Marketing</td>\n",
       "      <td>Sudeste</td>\n",
       "      <td>Mestrado ou Doutorado</td>\n",
       "      <td>F</td>\n",
       "      <td>Outsourcing</td>\n",
       "      <td>1</td>\n",
       "      <td>35</td>\n",
       "      <td>5.0</td>\n",
       "      <td>8</td>\n",
       "      <td>0</td>\n",
       "    </tr>\n",
       "    <tr>\n",
       "      <th>1</th>\n",
       "      <td>65141</td>\n",
       "      <td>Logistica</td>\n",
       "      <td>Nordeste</td>\n",
       "      <td>Superior</td>\n",
       "      <td>M</td>\n",
       "      <td>Outro</td>\n",
       "      <td>1</td>\n",
       "      <td>30</td>\n",
       "      <td>5.0</td>\n",
       "      <td>4</td>\n",
       "      <td>0</td>\n",
       "    </tr>\n",
       "    <tr>\n",
       "      <th>2</th>\n",
       "      <td>7513</td>\n",
       "      <td>Marketing</td>\n",
       "      <td>Sudeste</td>\n",
       "      <td>Superior</td>\n",
       "      <td>M</td>\n",
       "      <td>Outsourcing</td>\n",
       "      <td>1</td>\n",
       "      <td>34</td>\n",
       "      <td>3.0</td>\n",
       "      <td>7</td>\n",
       "      <td>0</td>\n",
       "    </tr>\n",
       "    <tr>\n",
       "      <th>3</th>\n",
       "      <td>2542</td>\n",
       "      <td>Marketing</td>\n",
       "      <td>Norte</td>\n",
       "      <td>Superior</td>\n",
       "      <td>M</td>\n",
       "      <td>Outro</td>\n",
       "      <td>2</td>\n",
       "      <td>39</td>\n",
       "      <td>1.0</td>\n",
       "      <td>10</td>\n",
       "      <td>0</td>\n",
       "    </tr>\n",
       "    <tr>\n",
       "      <th>4</th>\n",
       "      <td>48945</td>\n",
       "      <td>Tecnologia</td>\n",
       "      <td>Nordeste</td>\n",
       "      <td>Superior</td>\n",
       "      <td>M</td>\n",
       "      <td>Outro</td>\n",
       "      <td>1</td>\n",
       "      <td>45</td>\n",
       "      <td>3.0</td>\n",
       "      <td>2</td>\n",
       "      <td>0</td>\n",
       "    </tr>\n",
       "  </tbody>\n",
       "</table>\n",
       "</div>"
      ],
      "text/plain": [
       "   id_funcionario departmento    regiao               educacao genero  \\\n",
       "0           65438   Marketing   Sudeste  Mestrado ou Doutorado      F   \n",
       "1           65141   Logistica  Nordeste               Superior      M   \n",
       "2            7513   Marketing   Sudeste               Superior      M   \n",
       "3            2542   Marketing     Norte               Superior      M   \n",
       "4           48945  Tecnologia  Nordeste               Superior      M   \n",
       "\n",
       "  canal_recrutamento  numero_treinamentos  idade  aval_ano_anterior  \\\n",
       "0        Outsourcing                    1     35                5.0   \n",
       "1              Outro                    1     30                5.0   \n",
       "2        Outsourcing                    1     34                3.0   \n",
       "3              Outro                    2     39                1.0   \n",
       "4              Outro                    1     45                3.0   \n",
       "\n",
       "   tempo_servico  promovido  \n",
       "0              8          0  \n",
       "1              4          0  \n",
       "2              7          0  \n",
       "3             10          0  \n",
       "4              2          0  "
      ]
     },
     "execution_count": 33,
     "metadata": {},
     "output_type": "execute_result"
    }
   ],
   "source": [
    "dataset = pd.read_csv('dados/dadosRH_modificado.csv')\n",
    "dataset.head()"
   ]
  },
  {
   "cell_type": "code",
   "execution_count": 34,
   "metadata": {},
   "outputs": [
    {
     "data": {
      "text/plain": [
       "(100280, 11)"
      ]
     },
     "execution_count": 34,
     "metadata": {},
     "output_type": "execute_result"
    }
   ],
   "source": [
    "dataset.shape"
   ]
  },
  {
   "cell_type": "markdown",
   "metadata": {},
   "source": [
    "### Pergunta 1 - Qual a Correlação Entre os Atributos dos Funcionários?"
   ]
  },
  {
   "cell_type": "code",
   "execution_count": 35,
   "metadata": {},
   "outputs": [
    {
     "data": {
      "image/png": "[encoded data removed]",
      "text/plain": [
       "<Figure size 432x288 with 2 Axes>"
      ]
     },
     "metadata": {
      "needs_background": "light"
     },
     "output_type": "display_data"
    }
   ],
   "source": [
    "import matplotlib.pyplot as plt\n",
    "import seaborn as sns\n",
    "corr = dataset.corr()\n",
    "sns.heatmap(corr, cmap = \"YlOrRd\", linewidths = 0.1)\n",
    "plt.show()"
   ]
  },
  {
   "cell_type": "markdown",
   "metadata": {},
   "source": [
    "### Pergunta 2 - Qual o Tempo de Serviço da Maioria dos Funcionários?"
   ]
  },
  {
   "cell_type": "code",
   "execution_count": 33,
   "metadata": {
    "colab": {
     "base_uri": "https://localhost:8080/",
     "height": 585
    },
    "colab_type": "code",
    "executionInfo": {
     "elapsed": 59017,
     "status": "ok",
     "timestamp": 1593698501319,
     "user": {
      "displayName": "work data",
      "photoUrl": "",
      "userId": "01648815589157946143"
     },
     "user_tz": -330
    },
    "id": "0eqrfprLVPac",
    "outputId": "ce9ee07b-771b-421d-94a4-3ab7945316b0"
   },
   "outputs": [
    {
     "data": {
      "image/png": "[encoded data removed]",
      "text/plain": [
       "<Figure size 432x288 with 1 Axes>"
      ]
     },
     "metadata": {
      "needs_background": "light"
     },
     "output_type": "display_data"
    }
   ],
   "source": [
    "import matplotlib.pyplot as plt\n",
    "import seaborn as sns\n",
    "sns.distplot(dataset['tempo_servico'], color = 'green')\n",
    "plt.title('Distribuição do Tempo de Serviço dos Funcionários', fontsize = 15)\n",
    "plt.xlabel('Tempo de Serviço em Anos', fontsize = 15)\n",
    "plt.ylabel('Total')\n",
    "plt.show()"
   ]
  },
  {
   "cell_type": "markdown",
   "metadata": {},
   "source": [
    "### Pergunta 3 - Qual Avaliação do Ano Anterior Foi Mais Comum?"
   ]
  },
  {
   "cell_type": "code",
   "execution_count": 34,
   "metadata": {
    "colab": {
     "base_uri": "https://localhost:8080/",
     "height": 571
    },
    "colab_type": "code",
    "executionInfo": {
     "elapsed": 59013,
     "status": "ok",
     "timestamp": 1593698501320,
     "user": {
      "displayName": "work data",
      "photoUrl": "",
      "userId": "01648815589157946143"
     },
     "user_tz": -330
    },
    "id": "VuXeNqr3ZpvU",
    "outputId": "a3c50ca1-7bf5-4ec6-ef29-06c54e982fa3"
   },
   "outputs": [
    {
     "data": {
      "image/png": "[encoded data removed]",
      "text/plain": [
       "<Figure size 720x360 with 1 Axes>"
      ]
     },
     "metadata": {
      "needs_background": "light"
     },
     "output_type": "display_data"
    }
   ],
   "source": [
    "import matplotlib.pyplot as plt\n",
    "import seaborn as sns\n",
    "dataset['aval_ano_anterior'].value_counts().sort_values().plot.bar(color = 'blue', figsize = (10, 5))\n",
    "plt.title('Distribuição da Avaliação do Ano Anterior dos Funcionários', fontsize = 15)\n",
    "plt.xlabel('Avaliações', fontsize = 15)\n",
    "plt.ylabel('Total')\n",
    "plt.show()"
   ]
  },
  {
   "cell_type": "markdown",
   "metadata": {},
   "source": [
    "### Pergunta 4 - Qual a Distribuição das Idades dos Funcionários?"
   ]
  },
  {
   "cell_type": "code",
   "execution_count": 35,
   "metadata": {
    "colab": {
     "base_uri": "https://localhost:8080/",
     "height": 585
    },
    "colab_type": "code",
    "executionInfo": {
     "elapsed": 59011,
     "status": "ok",
     "timestamp": 1593698501322,
     "user": {
      "displayName": "work data",
      "photoUrl": "",
      "userId": "01648815589157946143"
     },
     "user_tz": -330
    },
    "id": "xSOr6f5qZ5cR",
    "outputId": "7820d569-ce44-4ea7-88be-5010d10e6942"
   },
   "outputs": [
    {
     "data": {
      "image/png": "[encoded data removed]",
      "text/plain": [
       "<Figure size 432x288 with 1 Axes>"
      ]
     },
     "metadata": {
      "needs_background": "light"
     },
     "output_type": "display_data"
    }
   ],
   "source": [
    "import matplotlib.pyplot as plt\n",
    "import seaborn as sns\n",
    "sns.distplot(dataset['idade'], color = 'magenta')\n",
    "plt.title('Distribuição da Idade dos Funcionários', fontsize = 15)\n",
    "plt.xlabel('Idade', fontsize = 15)\n",
    "plt.ylabel('Total')\n",
    "plt.show()"
   ]
  },
  {
   "cell_type": "markdown",
   "metadata": {},
   "source": [
    "### Pergunta 5 - Qual o Número de Treinamentos Mais Frequente?"
   ]
  },
  {
   "cell_type": "code",
   "execution_count": 36,
   "metadata": {
    "colab": {
     "base_uri": "https://localhost:8080/",
     "height": 476
    },
    "colab_type": "code",
    "executionInfo": {
     "elapsed": 60206,
     "status": "ok",
     "timestamp": 1593698502526,
     "user": {
      "displayName": "work data",
      "photoUrl": "",
      "userId": "01648815589157946143"
     },
     "user_tz": -330
    },
    "id": "Inh7kNo7aXic",
    "outputId": "7a650a60-b8f4-424d-9eef-1a12087fc39d"
   },
   "outputs": [
    {
     "data": {
      "image/png": "[encoded data removed]",
      "text/plain": [
       "<Figure size 432x288 with 1 Axes>"
      ]
     },
     "metadata": {
      "needs_background": "light"
     },
     "output_type": "display_data"
    }
   ],
   "source": [
    "import matplotlib.pyplot as plt\n",
    "import seaborn as sns\n",
    "sns.violinplot(dataset['numero_treinamentos'], color = 'red')\n",
    "plt.title('Número de Treinamentos Feitos Pelos Funcionários', fontsize = 15)\n",
    "plt.xlabel('Número de Treinamentos', fontsize = 15)\n",
    "plt.ylabel('Frequência')\n",
    "plt.show()"
   ]
  },
  {
   "cell_type": "markdown",
   "metadata": {},
   "source": [
    "### Pergunta 6 - Qual a Proporção dos Funcionários Por Canal de Recrutamento?"
   ]
  },
  {
   "cell_type": "code",
   "execution_count": 37,
   "metadata": {},
   "outputs": [
    {
     "data": {
      "text/plain": [
       "Outro          55375\n",
       "Outsourcing    42358\n",
       "Indicado        2547\n",
       "Name: canal_recrutamento, dtype: int64"
      ]
     },
     "execution_count": 37,
     "metadata": {},
     "output_type": "execute_result"
    }
   ],
   "source": [
    "dataset['canal_recrutamento'].value_counts()"
   ]
  },
  {
   "cell_type": "code",
   "execution_count": 38,
   "metadata": {
    "scrolled": true
   },
   "outputs": [
    {
     "data": {
      "image/png": "[encoded data removed]",
      "text/plain": [
       "<Figure size 432x288 with 1 Axes>"
      ]
     },
     "metadata": {},
     "output_type": "display_data"
    }
   ],
   "source": [
    "import matplotlib.pyplot as plt\n",
    "import seaborn as sns\n",
    "dataset['canal_recrutamento'].value_counts()\n",
    "fatias = [55375, 42358, 2547]\n",
    "labels = \"Outro\", \"Outsourcing\", \"Indicação\"\n",
    "colors = ['purple', 'lime', 'yellow']\n",
    "explode = [0, 0, 0]\n",
    "plt.pie(fatias, labels = labels, colors = colors, explode = explode, shadow = True, autopct = \"%.2f%%\")\n",
    "plt.title('Percentual de Funcionários Por Canal de Recrutamento', fontsize = 15)\n",
    "plt.axis('off')\n",
    "#plt.legend()\n",
    "plt.show()"
   ]
  },
  {
   "cell_type": "markdown",
   "metadata": {},
   "source": [
    "### Pergunta 7 - Qual a Relação Entre a Promoção e a Avaliação do Ano Anterior?"
   ]
  },
  {
   "cell_type": "code",
   "execution_count": 39,
   "metadata": {
    "colab": {
     "base_uri": "https://localhost:8080/",
     "height": 680
    },
    "colab_type": "code",
    "executionInfo": {
     "elapsed": 60188,
     "status": "ok",
     "timestamp": 1593698502530,
     "user": {
      "displayName": "work data",
      "photoUrl": "",
      "userId": "01648815589157946143"
     },
     "user_tz": -330
    },
    "id": "eq77o58mcJC9",
    "outputId": "d27c140f-afdf-4ebf-d4fe-45ae9069e5ae"
   },
   "outputs": [
    {
     "data": {
      "image/png": "[encoded data removed]",
      "text/plain": [
       "<Figure size 1152x648 with 1 Axes>"
      ]
     },
     "metadata": {
      "needs_background": "light"
     },
     "output_type": "display_data"
    }
   ],
   "source": [
    "import matplotlib.pyplot as plt\n",
    "import seaborn as sns\n",
    "data = pd.crosstab(dataset['aval_ano_anterior'], dataset['promovido'])\n",
    "data.div(data.sum(1).astype(float), axis = 0).plot(kind = 'bar', \n",
    "                                                   stacked = True, \n",
    "                                                   figsize = (16, 9), \n",
    "                                                   color = ['blue', 'magenta'])\n",
    "plt.title('Relação Entre Avaliação do Ano Anterior e a Promoção', fontsize = 15)\n",
    "plt.xlabel('Avaliação do Ano Anterior', fontsize = 15)\n",
    "plt.legend()\n",
    "plt.show()"
   ]
  },
  {
   "cell_type": "markdown",
   "metadata": {
    "colab": {},
    "colab_type": "code",
    "executionInfo": {
     "elapsed": 1178,
     "status": "ok",
     "timestamp": 1593700867232,
     "user": {
      "displayName": "work data",
      "photoUrl": "",
      "userId": "01648815589157946143"
     },
     "user_tz": -330
    },
    "id": "XpKTjlk68MN7"
   },
   "source": [
    "# Fim"
   ]
  }
 ],
 "metadata": {
  "colab": {
   "authorship_tag": "ABX9TyMB3LsuTvymI4FpU/rgfBud",
   "collapsed_sections": [],
   "name": "HR Analytics Promotion.ipynb",
   "provenance": []
  },
  "kernelspec": {
   "display_name": "Python 3",
   "language": "python",
   "name": "python3"
  },
  "language_info": {
   "codemirror_mode": {
    "name": "ipython",
    "version": 3
   },
   "file_extension": ".py",
   "mimetype": "text/x-python",
   "name": "python",
   "nbconvert_exporter": "python",
   "pygments_lexer": "ipython3",
   "version": "3.9.7"
  }
 },
 "nbformat": 4,
 "nbformat_minor": 1
}
